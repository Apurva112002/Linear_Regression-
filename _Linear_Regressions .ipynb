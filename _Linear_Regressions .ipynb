{
 "cells": [
  {
   "cell_type": "code",
   "execution_count": 115,
   "id": "f60d6a35",
   "metadata": {},
   "outputs": [],
   "source": [
    "import pandas as pd\n",
    "import numpy as np\n",
    "import seaborn as sns\n",
    "from sklearn.model_selection import train_test_split\n",
    "from statsmodels.stats.outliers_influence import variance_inflation_factor\n",
    "import statsmodels.formula.api as smf\n",
    "import statsmodels.api as sm\n",
    "from sklearn.metrics import r2_score"
   ]
  },
  {
   "cell_type": "markdown",
   "id": "8bda22aa",
   "metadata": {},
   "source": [
    "## Step1:Import,Info,Discribe"
   ]
  },
  {
   "cell_type": "code",
   "execution_count": 84,
   "id": "182805c6",
   "metadata": {
    "scrolled": true
   },
   "outputs": [
    {
     "data": {
      "text/html": [
       "<div>\n",
       "<style scoped>\n",
       "    .dataframe tbody tr th:only-of-type {\n",
       "        vertical-align: middle;\n",
       "    }\n",
       "\n",
       "    .dataframe tbody tr th {\n",
       "        vertical-align: top;\n",
       "    }\n",
       "\n",
       "    .dataframe thead th {\n",
       "        text-align: right;\n",
       "    }\n",
       "</style>\n",
       "<table border=\"1\" class=\"dataframe\">\n",
       "  <thead>\n",
       "    <tr style=\"text-align: right;\">\n",
       "      <th></th>\n",
       "      <th>youtube</th>\n",
       "      <th>facebook</th>\n",
       "      <th>newspaper</th>\n",
       "      <th>sales</th>\n",
       "    </tr>\n",
       "  </thead>\n",
       "  <tbody>\n",
       "    <tr>\n",
       "      <th>0</th>\n",
       "      <td>84.72</td>\n",
       "      <td>19.20</td>\n",
       "      <td>48.96</td>\n",
       "      <td>12.60</td>\n",
       "    </tr>\n",
       "    <tr>\n",
       "      <th>1</th>\n",
       "      <td>351.48</td>\n",
       "      <td>33.96</td>\n",
       "      <td>51.84</td>\n",
       "      <td>25.68</td>\n",
       "    </tr>\n",
       "    <tr>\n",
       "      <th>2</th>\n",
       "      <td>135.48</td>\n",
       "      <td>20.88</td>\n",
       "      <td>46.32</td>\n",
       "      <td>14.28</td>\n",
       "    </tr>\n",
       "    <tr>\n",
       "      <th>3</th>\n",
       "      <td>116.64</td>\n",
       "      <td>1.80</td>\n",
       "      <td>36.00</td>\n",
       "      <td>11.52</td>\n",
       "    </tr>\n",
       "    <tr>\n",
       "      <th>4</th>\n",
       "      <td>318.72</td>\n",
       "      <td>24.00</td>\n",
       "      <td>0.36</td>\n",
       "      <td>20.88</td>\n",
       "    </tr>\n",
       "    <tr>\n",
       "      <th>...</th>\n",
       "      <td>...</td>\n",
       "      <td>...</td>\n",
       "      <td>...</td>\n",
       "      <td>...</td>\n",
       "    </tr>\n",
       "    <tr>\n",
       "      <th>166</th>\n",
       "      <td>45.84</td>\n",
       "      <td>4.44</td>\n",
       "      <td>16.56</td>\n",
       "      <td>9.12</td>\n",
       "    </tr>\n",
       "    <tr>\n",
       "      <th>167</th>\n",
       "      <td>113.04</td>\n",
       "      <td>5.88</td>\n",
       "      <td>9.72</td>\n",
       "      <td>11.64</td>\n",
       "    </tr>\n",
       "    <tr>\n",
       "      <th>168</th>\n",
       "      <td>212.40</td>\n",
       "      <td>11.16</td>\n",
       "      <td>7.68</td>\n",
       "      <td>15.36</td>\n",
       "    </tr>\n",
       "    <tr>\n",
       "      <th>169</th>\n",
       "      <td>340.32</td>\n",
       "      <td>50.40</td>\n",
       "      <td>79.44</td>\n",
       "      <td>30.60</td>\n",
       "    </tr>\n",
       "    <tr>\n",
       "      <th>170</th>\n",
       "      <td>278.52</td>\n",
       "      <td>10.32</td>\n",
       "      <td>10.44</td>\n",
       "      <td>16.08</td>\n",
       "    </tr>\n",
       "  </tbody>\n",
       "</table>\n",
       "<p>171 rows × 4 columns</p>\n",
       "</div>"
      ],
      "text/plain": [
       "     youtube  facebook  newspaper  sales\n",
       "0      84.72     19.20      48.96  12.60\n",
       "1     351.48     33.96      51.84  25.68\n",
       "2     135.48     20.88      46.32  14.28\n",
       "3     116.64      1.80      36.00  11.52\n",
       "4     318.72     24.00       0.36  20.88\n",
       "..       ...       ...        ...    ...\n",
       "166    45.84      4.44      16.56   9.12\n",
       "167   113.04      5.88       9.72  11.64\n",
       "168   212.40     11.16       7.68  15.36\n",
       "169   340.32     50.40      79.44  30.60\n",
       "170   278.52     10.32      10.44  16.08\n",
       "\n",
       "[171 rows x 4 columns]"
      ]
     },
     "execution_count": 84,
     "metadata": {},
     "output_type": "execute_result"
    }
   ],
   "source": [
    "new=pd.read_csv(r\"C:\\Users\\HP\\Downloads\\Marketing_Data.csv\")\n",
    "new"
   ]
  },
  {
   "cell_type": "code",
   "execution_count": 85,
   "id": "5cbdc54a",
   "metadata": {},
   "outputs": [
    {
     "name": "stdout",
     "output_type": "stream",
     "text": [
      "<class 'pandas.core.frame.DataFrame'>\n",
      "RangeIndex: 171 entries, 0 to 170\n",
      "Data columns (total 4 columns):\n",
      " #   Column     Non-Null Count  Dtype  \n",
      "---  ------     --------------  -----  \n",
      " 0   youtube    171 non-null    float64\n",
      " 1   facebook   171 non-null    float64\n",
      " 2   newspaper  171 non-null    float64\n",
      " 3   sales      171 non-null    float64\n",
      "dtypes: float64(4)\n",
      "memory usage: 5.5 KB\n"
     ]
    }
   ],
   "source": [
    "new.info()"
   ]
  },
  {
   "cell_type": "code",
   "execution_count": 86,
   "id": "0e256ad7",
   "metadata": {},
   "outputs": [
    {
     "data": {
      "text/html": [
       "<div>\n",
       "<style scoped>\n",
       "    .dataframe tbody tr th:only-of-type {\n",
       "        vertical-align: middle;\n",
       "    }\n",
       "\n",
       "    .dataframe tbody tr th {\n",
       "        vertical-align: top;\n",
       "    }\n",
       "\n",
       "    .dataframe thead th {\n",
       "        text-align: right;\n",
       "    }\n",
       "</style>\n",
       "<table border=\"1\" class=\"dataframe\">\n",
       "  <thead>\n",
       "    <tr style=\"text-align: right;\">\n",
       "      <th></th>\n",
       "      <th>youtube</th>\n",
       "      <th>facebook</th>\n",
       "      <th>newspaper</th>\n",
       "      <th>sales</th>\n",
       "    </tr>\n",
       "  </thead>\n",
       "  <tbody>\n",
       "    <tr>\n",
       "      <th>count</th>\n",
       "      <td>171.000000</td>\n",
       "      <td>171.000000</td>\n",
       "      <td>171.000000</td>\n",
       "      <td>171.000000</td>\n",
       "    </tr>\n",
       "    <tr>\n",
       "      <th>mean</th>\n",
       "      <td>178.021053</td>\n",
       "      <td>27.671579</td>\n",
       "      <td>35.240000</td>\n",
       "      <td>16.922807</td>\n",
       "    </tr>\n",
       "    <tr>\n",
       "      <th>std</th>\n",
       "      <td>102.449597</td>\n",
       "      <td>17.913532</td>\n",
       "      <td>24.902918</td>\n",
       "      <td>6.314608</td>\n",
       "    </tr>\n",
       "    <tr>\n",
       "      <th>min</th>\n",
       "      <td>0.840000</td>\n",
       "      <td>0.000000</td>\n",
       "      <td>0.360000</td>\n",
       "      <td>1.920000</td>\n",
       "    </tr>\n",
       "    <tr>\n",
       "      <th>25%</th>\n",
       "      <td>91.080000</td>\n",
       "      <td>11.700000</td>\n",
       "      <td>13.740000</td>\n",
       "      <td>12.540000</td>\n",
       "    </tr>\n",
       "    <tr>\n",
       "      <th>50%</th>\n",
       "      <td>179.760000</td>\n",
       "      <td>26.760000</td>\n",
       "      <td>31.080000</td>\n",
       "      <td>15.480000</td>\n",
       "    </tr>\n",
       "    <tr>\n",
       "      <th>75%</th>\n",
       "      <td>262.980000</td>\n",
       "      <td>43.680000</td>\n",
       "      <td>50.880000</td>\n",
       "      <td>20.820000</td>\n",
       "    </tr>\n",
       "    <tr>\n",
       "      <th>max</th>\n",
       "      <td>355.680000</td>\n",
       "      <td>59.520000</td>\n",
       "      <td>121.080000</td>\n",
       "      <td>32.400000</td>\n",
       "    </tr>\n",
       "  </tbody>\n",
       "</table>\n",
       "</div>"
      ],
      "text/plain": [
       "          youtube    facebook   newspaper       sales\n",
       "count  171.000000  171.000000  171.000000  171.000000\n",
       "mean   178.021053   27.671579   35.240000   16.922807\n",
       "std    102.449597   17.913532   24.902918    6.314608\n",
       "min      0.840000    0.000000    0.360000    1.920000\n",
       "25%     91.080000   11.700000   13.740000   12.540000\n",
       "50%    179.760000   26.760000   31.080000   15.480000\n",
       "75%    262.980000   43.680000   50.880000   20.820000\n",
       "max    355.680000   59.520000  121.080000   32.400000"
      ]
     },
     "execution_count": 86,
     "metadata": {},
     "output_type": "execute_result"
    }
   ],
   "source": [
    "new.describe()"
   ]
  },
  {
   "cell_type": "markdown",
   "id": "b184b05e",
   "metadata": {},
   "source": [
    "## Step2: boxplot,Ottlier,Boxplot"
   ]
  },
  {
   "cell_type": "code",
   "execution_count": 87,
   "id": "1a3012ec",
   "metadata": {},
   "outputs": [
    {
     "data": {
      "text/plain": [
       "<AxesSubplot:>"
      ]
     },
     "execution_count": 87,
     "metadata": {},
     "output_type": "execute_result"
    },
    {
     "data": {
      "image/png": "[encoded data removed]",
      "text/plain": [
       "<Figure size 640x480 with 1 Axes>"
      ]
     },
     "metadata": {},
     "output_type": "display_data"
    }
   ],
   "source": [
    "sns.boxplot(data=new)"
   ]
  },
  {
   "cell_type": "code",
   "execution_count": 88,
   "id": "8fccd4c0",
   "metadata": {},
   "outputs": [
    {
     "data": {
      "text/plain": [
       "106.59"
      ]
     },
     "execution_count": 88,
     "metadata": {},
     "output_type": "execute_result"
    }
   ],
   "source": [
    "q1=new['newspaper'].quantile(0.25)\n",
    "q3=new['newspaper'].quantile(0.75)\n",
    "iqr=q3-q1\n",
    "upper_limit=q3+1.5*iqr\n",
    "upper_limit"
   ]
  },
  {
   "cell_type": "code",
   "execution_count": 89,
   "id": "e61491cb",
   "metadata": {},
   "outputs": [],
   "source": [
    "new ['newspaper']=np.where(new['newspaper'] > upper_limit,upper_limit,new['newspaper'])"
   ]
  },
  {
   "cell_type": "code",
   "execution_count": 90,
   "id": "9f1815af",
   "metadata": {},
   "outputs": [
    {
     "data": {
      "text/plain": [
       "<AxesSubplot:>"
      ]
     },
     "execution_count": 90,
     "metadata": {},
     "output_type": "execute_result"
    },
    {
     "data": {
      "image/png": "[encoded data removed]",
      "text/plain": [
       "<Figure size 640x480 with 1 Axes>"
      ]
     },
     "metadata": {},
     "output_type": "display_data"
    }
   ],
   "source": [
    "sns.boxplot(data=new)"
   ]
  },
  {
   "cell_type": "markdown",
   "id": "242c2d8f",
   "metadata": {},
   "source": [
    "## Step3:Head ,seprat Train and Test."
   ]
  },
  {
   "cell_type": "code",
   "execution_count": 91,
   "id": "42c1eddd",
   "metadata": {},
   "outputs": [
    {
     "data": {
      "text/html": [
       "<div>\n",
       "<style scoped>\n",
       "    .dataframe tbody tr th:only-of-type {\n",
       "        vertical-align: middle;\n",
       "    }\n",
       "\n",
       "    .dataframe tbody tr th {\n",
       "        vertical-align: top;\n",
       "    }\n",
       "\n",
       "    .dataframe thead th {\n",
       "        text-align: right;\n",
       "    }\n",
       "</style>\n",
       "<table border=\"1\" class=\"dataframe\">\n",
       "  <thead>\n",
       "    <tr style=\"text-align: right;\">\n",
       "      <th></th>\n",
       "      <th>youtube</th>\n",
       "      <th>facebook</th>\n",
       "      <th>newspaper</th>\n",
       "      <th>sales</th>\n",
       "    </tr>\n",
       "  </thead>\n",
       "  <tbody>\n",
       "    <tr>\n",
       "      <th>0</th>\n",
       "      <td>84.72</td>\n",
       "      <td>19.20</td>\n",
       "      <td>48.96</td>\n",
       "      <td>12.60</td>\n",
       "    </tr>\n",
       "    <tr>\n",
       "      <th>1</th>\n",
       "      <td>351.48</td>\n",
       "      <td>33.96</td>\n",
       "      <td>51.84</td>\n",
       "      <td>25.68</td>\n",
       "    </tr>\n",
       "    <tr>\n",
       "      <th>2</th>\n",
       "      <td>135.48</td>\n",
       "      <td>20.88</td>\n",
       "      <td>46.32</td>\n",
       "      <td>14.28</td>\n",
       "    </tr>\n",
       "    <tr>\n",
       "      <th>3</th>\n",
       "      <td>116.64</td>\n",
       "      <td>1.80</td>\n",
       "      <td>36.00</td>\n",
       "      <td>11.52</td>\n",
       "    </tr>\n",
       "    <tr>\n",
       "      <th>4</th>\n",
       "      <td>318.72</td>\n",
       "      <td>24.00</td>\n",
       "      <td>0.36</td>\n",
       "      <td>20.88</td>\n",
       "    </tr>\n",
       "  </tbody>\n",
       "</table>\n",
       "</div>"
      ],
      "text/plain": [
       "   youtube  facebook  newspaper  sales\n",
       "0    84.72     19.20      48.96  12.60\n",
       "1   351.48     33.96      51.84  25.68\n",
       "2   135.48     20.88      46.32  14.28\n",
       "3   116.64      1.80      36.00  11.52\n",
       "4   318.72     24.00       0.36  20.88"
      ]
     },
     "execution_count": 91,
     "metadata": {},
     "output_type": "execute_result"
    }
   ],
   "source": [
    "new.head()"
   ]
  },
  {
   "cell_type": "code",
   "execution_count": 92,
   "id": "5ccd5e4c",
   "metadata": {},
   "outputs": [],
   "source": [
    "x=new.drop('sales',axis=1)\n",
    "y=new[['sales']]\n",
    "x_train,x_test,y_train,y_test=train_test_split(x,y,train_size=0.7,random_state=110)\n"
   ]
  },
  {
   "cell_type": "code",
   "execution_count": 93,
   "id": "5e0d8c01",
   "metadata": {},
   "outputs": [
    {
     "data": {
      "text/html": [
       "<div>\n",
       "<style scoped>\n",
       "    .dataframe tbody tr th:only-of-type {\n",
       "        vertical-align: middle;\n",
       "    }\n",
       "\n",
       "    .dataframe tbody tr th {\n",
       "        vertical-align: top;\n",
       "    }\n",
       "\n",
       "    .dataframe thead th {\n",
       "        text-align: right;\n",
       "    }\n",
       "</style>\n",
       "<table border=\"1\" class=\"dataframe\">\n",
       "  <thead>\n",
       "    <tr style=\"text-align: right;\">\n",
       "      <th></th>\n",
       "      <th>sales</th>\n",
       "      <th>youtube</th>\n",
       "      <th>facebook</th>\n",
       "      <th>newspaper</th>\n",
       "    </tr>\n",
       "  </thead>\n",
       "  <tbody>\n",
       "    <tr>\n",
       "      <th>108</th>\n",
       "      <td>24.96</td>\n",
       "      <td>328.44</td>\n",
       "      <td>34.68</td>\n",
       "      <td>71.64</td>\n",
       "    </tr>\n",
       "    <tr>\n",
       "      <th>142</th>\n",
       "      <td>17.40</td>\n",
       "      <td>197.40</td>\n",
       "      <td>25.08</td>\n",
       "      <td>56.88</td>\n",
       "    </tr>\n",
       "    <tr>\n",
       "      <th>17</th>\n",
       "      <td>12.72</td>\n",
       "      <td>107.64</td>\n",
       "      <td>11.88</td>\n",
       "      <td>42.84</td>\n",
       "    </tr>\n",
       "    <tr>\n",
       "      <th>36</th>\n",
       "      <td>11.16</td>\n",
       "      <td>82.80</td>\n",
       "      <td>11.16</td>\n",
       "      <td>1.08</td>\n",
       "    </tr>\n",
       "    <tr>\n",
       "      <th>116</th>\n",
       "      <td>12.36</td>\n",
       "      <td>168.36</td>\n",
       "      <td>2.28</td>\n",
       "      <td>10.80</td>\n",
       "    </tr>\n",
       "  </tbody>\n",
       "</table>\n",
       "</div>"
      ],
      "text/plain": [
       "     sales  youtube  facebook  newspaper\n",
       "108  24.96   328.44     34.68      71.64\n",
       "142  17.40   197.40     25.08      56.88\n",
       "17   12.72   107.64     11.88      42.84\n",
       "36   11.16    82.80     11.16       1.08\n",
       "116  12.36   168.36      2.28      10.80"
      ]
     },
     "execution_count": 93,
     "metadata": {},
     "output_type": "execute_result"
    }
   ],
   "source": [
    "df=pd.concat([y_train,x_train],axis=1)\n",
    "df.head()"
   ]
  },
  {
   "cell_type": "markdown",
   "id": "5fc5ed6d",
   "metadata": {},
   "source": [
    "## Step4:Scatter,Corr,VIF,Assumption "
   ]
  },
  {
   "cell_type": "code",
   "execution_count": 94,
   "id": "0de01880",
   "metadata": {
    "scrolled": true
   },
   "outputs": [
    {
     "data": {
      "text/plain": [
       "<AxesSubplot:title={'center':'sales vs youtube'}, xlabel='youtube', ylabel='sales'>"
      ]
     },
     "execution_count": 94,
     "metadata": {},
     "output_type": "execute_result"
    },
    {
     "data": {
      "image/png": "[encoded data removed]",
      "text/plain": [
       "<Figure size 640x480 with 1 Axes>"
      ]
     },
     "metadata": {},
     "output_type": "display_data"
    }
   ],
   "source": [
    "df.plot.scatter(x='youtube',y='sales',title='sales vs youtube')"
   ]
  },
  {
   "cell_type": "code",
   "execution_count": 95,
   "id": "b01b2d80",
   "metadata": {},
   "outputs": [
    {
     "data": {
      "text/html": [
       "<div>\n",
       "<style scoped>\n",
       "    .dataframe tbody tr th:only-of-type {\n",
       "        vertical-align: middle;\n",
       "    }\n",
       "\n",
       "    .dataframe tbody tr th {\n",
       "        vertical-align: top;\n",
       "    }\n",
       "\n",
       "    .dataframe thead th {\n",
       "        text-align: right;\n",
       "    }\n",
       "</style>\n",
       "<table border=\"1\" class=\"dataframe\">\n",
       "  <thead>\n",
       "    <tr style=\"text-align: right;\">\n",
       "      <th></th>\n",
       "      <th>sales</th>\n",
       "      <th>youtube</th>\n",
       "      <th>facebook</th>\n",
       "      <th>newspaper</th>\n",
       "    </tr>\n",
       "  </thead>\n",
       "  <tbody>\n",
       "    <tr>\n",
       "      <th>sales</th>\n",
       "      <td>1.000000</td>\n",
       "      <td>0.775557</td>\n",
       "      <td>0.607253</td>\n",
       "      <td>0.185457</td>\n",
       "    </tr>\n",
       "    <tr>\n",
       "      <th>youtube</th>\n",
       "      <td>0.775557</td>\n",
       "      <td>1.000000</td>\n",
       "      <td>0.089242</td>\n",
       "      <td>0.048402</td>\n",
       "    </tr>\n",
       "    <tr>\n",
       "      <th>facebook</th>\n",
       "      <td>0.607253</td>\n",
       "      <td>0.089242</td>\n",
       "      <td>1.000000</td>\n",
       "      <td>0.293933</td>\n",
       "    </tr>\n",
       "    <tr>\n",
       "      <th>newspaper</th>\n",
       "      <td>0.185457</td>\n",
       "      <td>0.048402</td>\n",
       "      <td>0.293933</td>\n",
       "      <td>1.000000</td>\n",
       "    </tr>\n",
       "  </tbody>\n",
       "</table>\n",
       "</div>"
      ],
      "text/plain": [
       "              sales   youtube  facebook  newspaper\n",
       "sales      1.000000  0.775557  0.607253   0.185457\n",
       "youtube    0.775557  1.000000  0.089242   0.048402\n",
       "facebook   0.607253  0.089242  1.000000   0.293933\n",
       "newspaper  0.185457  0.048402  0.293933   1.000000"
      ]
     },
     "execution_count": 95,
     "metadata": {},
     "output_type": "execute_result"
    }
   ],
   "source": [
    "df.corr()"
   ]
  },
  {
   "cell_type": "code",
   "execution_count": 96,
   "id": "8b975889",
   "metadata": {},
   "outputs": [
    {
     "data": {
      "text/plain": [
       "<AxesSubplot:>"
      ]
     },
     "execution_count": 96,
     "metadata": {},
     "output_type": "execute_result"
    },
    {
     "data": {
      "image/png": "[encoded data removed]",
      "text/plain": [
       "<Figure size 640x480 with 2 Axes>"
      ]
     },
     "metadata": {},
     "output_type": "display_data"
    }
   ],
   "source": [
    "sns.heatmap(df.corr(),annot=True)  # annot=give the no inside of box"
   ]
  },
  {
   "cell_type": "markdown",
   "id": "77565d27",
   "metadata": {},
   "source": [
    "### youtube have 78% strong positve correlation with Sales\n",
    ".youtube have high impact on Sales\n",
    "\n",
    ".There is no colinearity in data, So every platform is independent"
   ]
  },
  {
   "cell_type": "code",
   "execution_count": 50,
   "id": "b3d0563e",
   "metadata": {},
   "outputs": [
    {
     "data": {
      "text/plain": [
       "youtube      2.679076\n",
       "facebook     3.242223\n",
       "newspaper    2.851359\n",
       "dtype: float64"
      ]
     },
     "execution_count": 50,
     "metadata": {},
     "output_type": "execute_result"
    }
   ],
   "source": [
    "x=df.drop(['sales'],axis=1)\n",
    "before=pd.Series([variance_inflation_factor(x.values, i) \n",
    "                           for i in range(x.shape[1])],  # i=0,1,2\n",
    "                          index=x.columns)\n",
    "before"
   ]
  },
  {
   "cell_type": "markdown",
   "id": "dfd40d2e",
   "metadata": {},
   "source": [
    "### MODEL BULDING\n",
    "H0:There is no linear relationship  between sales and youtube,newspaper,facebook\n",
    "\n",
    "    vs\n",
    "    \n",
    "H1:There is linear relastionship between sales and  youtube,newspaper,facebook\n",
    "\n",
    "Alpha=5%"
   ]
  },
  {
   "cell_type": "code",
   "execution_count": 55,
   "id": "baaf2192",
   "metadata": {
    "scrolled": true
   },
   "outputs": [
    {
     "data": {
      "text/html": [
       "<table class=\"simpletable\">\n",
       "<caption>OLS Regression Results</caption>\n",
       "<tr>\n",
       "  <th>Dep. Variable:</th>          <td>sales</td>      <th>  R-squared:         </th> <td>   0.893</td>\n",
       "</tr>\n",
       "<tr>\n",
       "  <th>Model:</th>                   <td>OLS</td>       <th>  Adj. R-squared:    </th> <td>   0.891</td>\n",
       "</tr>\n",
       "<tr>\n",
       "  <th>Method:</th>             <td>Least Squares</td>  <th>  F-statistic:       </th> <td>   321.2</td>\n",
       "</tr>\n",
       "<tr>\n",
       "  <th>Date:</th>             <td>Thu, 02 Mar 2023</td> <th>  Prob (F-statistic):</th> <td>1.02e-55</td>\n",
       "</tr>\n",
       "<tr>\n",
       "  <th>Time:</th>                 <td>22:51:56</td>     <th>  Log-Likelihood:    </th> <td> -247.82</td>\n",
       "</tr>\n",
       "<tr>\n",
       "  <th>No. Observations:</th>      <td>   119</td>      <th>  AIC:               </th> <td>   503.6</td>\n",
       "</tr>\n",
       "<tr>\n",
       "  <th>Df Residuals:</th>          <td>   115</td>      <th>  BIC:               </th> <td>   514.8</td>\n",
       "</tr>\n",
       "<tr>\n",
       "  <th>Df Model:</th>              <td>     3</td>      <th>                     </th>     <td> </td>   \n",
       "</tr>\n",
       "<tr>\n",
       "  <th>Covariance Type:</th>      <td>nonrobust</td>    <th>                     </th>     <td> </td>   \n",
       "</tr>\n",
       "</table>\n",
       "<table class=\"simpletable\">\n",
       "<tr>\n",
       "      <td></td>         <th>coef</th>     <th>std err</th>      <th>t</th>      <th>P>|t|</th>  <th>[0.025</th>    <th>0.975]</th>  \n",
       "</tr>\n",
       "<tr>\n",
       "  <th>Intercept</th> <td>    4.1316</td> <td>    0.486</td> <td>    8.497</td> <td> 0.000</td> <td>    3.168</td> <td>    5.095</td>\n",
       "</tr>\n",
       "<tr>\n",
       "  <th>youtube</th>   <td>    0.0441</td> <td>    0.002</td> <td>   23.788</td> <td> 0.000</td> <td>    0.040</td> <td>    0.048</td>\n",
       "</tr>\n",
       "<tr>\n",
       "  <th>facebook</th>  <td>    0.1863</td> <td>    0.011</td> <td>   17.065</td> <td> 0.000</td> <td>    0.165</td> <td>    0.208</td>\n",
       "</tr>\n",
       "<tr>\n",
       "  <th>newspaper</th> <td>   -0.0023</td> <td>    0.007</td> <td>   -0.315</td> <td> 0.754</td> <td>   -0.017</td> <td>    0.012</td>\n",
       "</tr>\n",
       "</table>\n",
       "<table class=\"simpletable\">\n",
       "<tr>\n",
       "  <th>Omnibus:</th>       <td>73.440</td> <th>  Durbin-Watson:     </th> <td>   1.810</td>\n",
       "</tr>\n",
       "<tr>\n",
       "  <th>Prob(Omnibus):</th> <td> 0.000</td> <th>  Jarque-Bera (JB):  </th> <td> 396.846</td>\n",
       "</tr>\n",
       "<tr>\n",
       "  <th>Skew:</th>          <td>-2.102</td> <th>  Prob(JB):          </th> <td>6.70e-87</td>\n",
       "</tr>\n",
       "<tr>\n",
       "  <th>Kurtosis:</th>      <td>10.897</td> <th>  Cond. No.          </th> <td>    555.</td>\n",
       "</tr>\n",
       "</table><br/><br/>Notes:<br/>[1] Standard Errors assume that the covariance matrix of the errors is correctly specified."
      ],
      "text/plain": [
       "<class 'statsmodels.iolib.summary.Summary'>\n",
       "\"\"\"\n",
       "                            OLS Regression Results                            \n",
       "==============================================================================\n",
       "Dep. Variable:                  sales   R-squared:                       0.893\n",
       "Model:                            OLS   Adj. R-squared:                  0.891\n",
       "Method:                 Least Squares   F-statistic:                     321.2\n",
       "Date:                Thu, 02 Mar 2023   Prob (F-statistic):           1.02e-55\n",
       "Time:                        22:51:56   Log-Likelihood:                -247.82\n",
       "No. Observations:                 119   AIC:                             503.6\n",
       "Df Residuals:                     115   BIC:                             514.8\n",
       "Df Model:                           3                                         \n",
       "Covariance Type:            nonrobust                                         \n",
       "==============================================================================\n",
       "                 coef    std err          t      P>|t|      [0.025      0.975]\n",
       "------------------------------------------------------------------------------\n",
       "Intercept      4.1316      0.486      8.497      0.000       3.168       5.095\n",
       "youtube        0.0441      0.002     23.788      0.000       0.040       0.048\n",
       "facebook       0.1863      0.011     17.065      0.000       0.165       0.208\n",
       "newspaper     -0.0023      0.007     -0.315      0.754      -0.017       0.012\n",
       "==============================================================================\n",
       "Omnibus:                       73.440   Durbin-Watson:                   1.810\n",
       "Prob(Omnibus):                  0.000   Jarque-Bera (JB):              396.846\n",
       "Skew:                          -2.102   Prob(JB):                     6.70e-87\n",
       "Kurtosis:                      10.897   Cond. No.                         555.\n",
       "==============================================================================\n",
       "\n",
       "Notes:\n",
       "[1] Standard Errors assume that the covariance matrix of the errors is correctly specified.\n",
       "\"\"\""
      ]
     },
     "execution_count": 55,
     "metadata": {},
     "output_type": "execute_result"
    }
   ],
   "source": [
    "model=smf.ols('sales~youtube+facebook+newspaper',data=df).fit()\n",
    "model.summary()"
   ]
  },
  {
   "cell_type": "markdown",
   "id": "ffda8c82",
   "metadata": {},
   "source": [
    "###### .There is Linear relationship between sales and youtube , facebook\n",
    ".There is no Linear relationship between sales and NewsPaper\n",
    "\n",
    ".so we will remove and re-run the model\n"
   ]
  },
  {
   "cell_type": "code",
   "execution_count": 60,
   "id": "8d7960ef",
   "metadata": {},
   "outputs": [
    {
     "data": {
      "text/html": [
       "<table class=\"simpletable\">\n",
       "<caption>OLS Regression Results</caption>\n",
       "<tr>\n",
       "  <th>Dep. Variable:</th>          <td>sales</td>      <th>  R-squared:         </th> <td>   0.893</td>\n",
       "</tr>\n",
       "<tr>\n",
       "  <th>Model:</th>                   <td>OLS</td>       <th>  Adj. R-squared:    </th> <td>   0.891</td>\n",
       "</tr>\n",
       "<tr>\n",
       "  <th>Method:</th>             <td>Least Squares</td>  <th>  F-statistic:       </th> <td>   485.6</td>\n",
       "</tr>\n",
       "<tr>\n",
       "  <th>Date:</th>             <td>Thu, 02 Mar 2023</td> <th>  Prob (F-statistic):</th> <td>4.30e-57</td>\n",
       "</tr>\n",
       "<tr>\n",
       "  <th>Time:</th>                 <td>22:56:11</td>     <th>  Log-Likelihood:    </th> <td> -247.87</td>\n",
       "</tr>\n",
       "<tr>\n",
       "  <th>No. Observations:</th>      <td>   119</td>      <th>  AIC:               </th> <td>   501.7</td>\n",
       "</tr>\n",
       "<tr>\n",
       "  <th>Df Residuals:</th>          <td>   116</td>      <th>  BIC:               </th> <td>   510.1</td>\n",
       "</tr>\n",
       "<tr>\n",
       "  <th>Df Model:</th>              <td>     2</td>      <th>                     </th>     <td> </td>   \n",
       "</tr>\n",
       "<tr>\n",
       "  <th>Covariance Type:</th>      <td>nonrobust</td>    <th>                     </th>     <td> </td>   \n",
       "</tr>\n",
       "</table>\n",
       "<table class=\"simpletable\">\n",
       "<tr>\n",
       "      <td></td>         <th>coef</th>     <th>std err</th>      <th>t</th>      <th>P>|t|</th>  <th>[0.025</th>    <th>0.975]</th>  \n",
       "</tr>\n",
       "<tr>\n",
       "  <th>Intercept</th> <td>    4.0782</td> <td>    0.454</td> <td>    8.986</td> <td> 0.000</td> <td>    3.179</td> <td>    4.977</td>\n",
       "</tr>\n",
       "<tr>\n",
       "  <th>youtube</th>   <td>    0.0440</td> <td>    0.002</td> <td>   23.880</td> <td> 0.000</td> <td>    0.040</td> <td>    0.048</td>\n",
       "</tr>\n",
       "<tr>\n",
       "  <th>facebook</th>  <td>    0.1853</td> <td>    0.010</td> <td>   17.811</td> <td> 0.000</td> <td>    0.165</td> <td>    0.206</td>\n",
       "</tr>\n",
       "</table>\n",
       "<table class=\"simpletable\">\n",
       "<tr>\n",
       "  <th>Omnibus:</th>       <td>72.242</td> <th>  Durbin-Watson:     </th> <td>   1.815</td>\n",
       "</tr>\n",
       "<tr>\n",
       "  <th>Prob(Omnibus):</th> <td> 0.000</td> <th>  Jarque-Bera (JB):  </th> <td> 376.719</td>\n",
       "</tr>\n",
       "<tr>\n",
       "  <th>Skew:</th>          <td>-2.076</td> <th>  Prob(JB):          </th> <td>1.57e-82</td>\n",
       "</tr>\n",
       "<tr>\n",
       "  <th>Kurtosis:</th>      <td>10.664</td> <th>  Cond. No.          </th> <td>    514.</td>\n",
       "</tr>\n",
       "</table><br/><br/>Notes:<br/>[1] Standard Errors assume that the covariance matrix of the errors is correctly specified."
      ],
      "text/plain": [
       "<class 'statsmodels.iolib.summary.Summary'>\n",
       "\"\"\"\n",
       "                            OLS Regression Results                            \n",
       "==============================================================================\n",
       "Dep. Variable:                  sales   R-squared:                       0.893\n",
       "Model:                            OLS   Adj. R-squared:                  0.891\n",
       "Method:                 Least Squares   F-statistic:                     485.6\n",
       "Date:                Thu, 02 Mar 2023   Prob (F-statistic):           4.30e-57\n",
       "Time:                        22:56:11   Log-Likelihood:                -247.87\n",
       "No. Observations:                 119   AIC:                             501.7\n",
       "Df Residuals:                     116   BIC:                             510.1\n",
       "Df Model:                           2                                         \n",
       "Covariance Type:            nonrobust                                         \n",
       "==============================================================================\n",
       "                 coef    std err          t      P>|t|      [0.025      0.975]\n",
       "------------------------------------------------------------------------------\n",
       "Intercept      4.0782      0.454      8.986      0.000       3.179       4.977\n",
       "youtube        0.0440      0.002     23.880      0.000       0.040       0.048\n",
       "facebook       0.1853      0.010     17.811      0.000       0.165       0.206\n",
       "==============================================================================\n",
       "Omnibus:                       72.242   Durbin-Watson:                   1.815\n",
       "Prob(Omnibus):                  0.000   Jarque-Bera (JB):              376.719\n",
       "Skew:                          -2.076   Prob(JB):                     1.57e-82\n",
       "Kurtosis:                      10.664   Cond. No.                         514.\n",
       "==============================================================================\n",
       "\n",
       "Notes:\n",
       "[1] Standard Errors assume that the covariance matrix of the errors is correctly specified.\n",
       "\"\"\""
      ]
     },
     "execution_count": 60,
     "metadata": {},
     "output_type": "execute_result"
    }
   ],
   "source": [
    "model2=smf.ols(\"sales~youtube+facebook\",data=df).fit()\n",
    "model2.summary()"
   ]
  },
  {
   "cell_type": "markdown",
   "id": "243170cb",
   "metadata": {},
   "source": [
    "#### .There is Linear relationship between sales and youtube , facebook\n",
    "    \n",
    " .91% is accuracy of model , so we say model is good fit   "
   ]
  },
  {
   "cell_type": "code",
   "execution_count": 62,
   "id": "6ceafb86",
   "metadata": {},
   "outputs": [
    {
     "data": {
      "text/plain": [
       "youtube     2.402871\n",
       "facebook    2.402871\n",
       "dtype: float64"
      ]
     },
     "execution_count": 62,
     "metadata": {},
     "output_type": "execute_result"
    }
   ],
   "source": [
    "X1=df.loc[:,['youtube', 'facebook']]\n",
    "series_before = pd.Series([variance_inflation_factor(X1.values, i) \n",
    "                           for i in range(X1.shape[1])], \n",
    "                          index=X1.columns)\n",
    "series_before"
   ]
  },
  {
   "cell_type": "markdown",
   "id": "18975115",
   "metadata": {},
   "source": [
    "## Assumption"
   ]
  },
  {
   "cell_type": "code",
   "execution_count": 63,
   "id": "c8499a0c",
   "metadata": {},
   "outputs": [
    {
     "data": {
      "text/html": [
       "<div>\n",
       "<style scoped>\n",
       "    .dataframe tbody tr th:only-of-type {\n",
       "        vertical-align: middle;\n",
       "    }\n",
       "\n",
       "    .dataframe tbody tr th {\n",
       "        vertical-align: top;\n",
       "    }\n",
       "\n",
       "    .dataframe thead th {\n",
       "        text-align: right;\n",
       "    }\n",
       "</style>\n",
       "<table border=\"1\" class=\"dataframe\">\n",
       "  <thead>\n",
       "    <tr style=\"text-align: right;\">\n",
       "      <th></th>\n",
       "      <th>sales</th>\n",
       "      <th>youtube</th>\n",
       "      <th>facebook</th>\n",
       "      <th>newspaper</th>\n",
       "    </tr>\n",
       "  </thead>\n",
       "  <tbody>\n",
       "    <tr>\n",
       "      <th>108</th>\n",
       "      <td>24.96</td>\n",
       "      <td>328.44</td>\n",
       "      <td>34.68</td>\n",
       "      <td>71.64</td>\n",
       "    </tr>\n",
       "    <tr>\n",
       "      <th>142</th>\n",
       "      <td>17.40</td>\n",
       "      <td>197.40</td>\n",
       "      <td>25.08</td>\n",
       "      <td>56.88</td>\n",
       "    </tr>\n",
       "    <tr>\n",
       "      <th>17</th>\n",
       "      <td>12.72</td>\n",
       "      <td>107.64</td>\n",
       "      <td>11.88</td>\n",
       "      <td>42.84</td>\n",
       "    </tr>\n",
       "    <tr>\n",
       "      <th>36</th>\n",
       "      <td>11.16</td>\n",
       "      <td>82.80</td>\n",
       "      <td>11.16</td>\n",
       "      <td>1.08</td>\n",
       "    </tr>\n",
       "    <tr>\n",
       "      <th>116</th>\n",
       "      <td>12.36</td>\n",
       "      <td>168.36</td>\n",
       "      <td>2.28</td>\n",
       "      <td>10.80</td>\n",
       "    </tr>\n",
       "  </tbody>\n",
       "</table>\n",
       "</div>"
      ],
      "text/plain": [
       "     sales  youtube  facebook  newspaper\n",
       "108  24.96   328.44     34.68      71.64\n",
       "142  17.40   197.40     25.08      56.88\n",
       "17   12.72   107.64     11.88      42.84\n",
       "36   11.16    82.80     11.16       1.08\n",
       "116  12.36   168.36      2.28      10.80"
      ]
     },
     "execution_count": 63,
     "metadata": {},
     "output_type": "execute_result"
    }
   ],
   "source": [
    "df.head()"
   ]
  },
  {
   "cell_type": "code",
   "execution_count": 64,
   "id": "25c481ab",
   "metadata": {},
   "outputs": [
    {
     "data": {
      "text/plain": [
       "24.955764"
      ]
     },
     "execution_count": 64,
     "metadata": {},
     "output_type": "execute_result"
    }
   ],
   "source": [
    "Y = 4.0782 + 0.0440 * 328.44  + 0.1853 * 34.68\n",
    "Y"
   ]
  },
  {
   "cell_type": "code",
   "execution_count": 117,
   "id": "99a63e2d",
   "metadata": {},
   "outputs": [
    {
     "data": {
      "text/html": [
       "<div>\n",
       "<style scoped>\n",
       "    .dataframe tbody tr th:only-of-type {\n",
       "        vertical-align: middle;\n",
       "    }\n",
       "\n",
       "    .dataframe tbody tr th {\n",
       "        vertical-align: top;\n",
       "    }\n",
       "\n",
       "    .dataframe thead th {\n",
       "        text-align: right;\n",
       "    }\n",
       "</style>\n",
       "<table border=\"1\" class=\"dataframe\">\n",
       "  <thead>\n",
       "    <tr style=\"text-align: right;\">\n",
       "      <th></th>\n",
       "      <th>sales</th>\n",
       "      <th>youtube</th>\n",
       "      <th>facebook</th>\n",
       "      <th>newspaper</th>\n",
       "      <th>fitted_value</th>\n",
       "      <th>residual</th>\n",
       "    </tr>\n",
       "  </thead>\n",
       "  <tbody>\n",
       "    <tr>\n",
       "      <th>108</th>\n",
       "      <td>24.96</td>\n",
       "      <td>328.44</td>\n",
       "      <td>34.68</td>\n",
       "      <td>71.64</td>\n",
       "      <td>24.969153</td>\n",
       "      <td>-0.009153</td>\n",
       "    </tr>\n",
       "    <tr>\n",
       "      <th>142</th>\n",
       "      <td>17.40</td>\n",
       "      <td>197.40</td>\n",
       "      <td>25.08</td>\n",
       "      <td>56.88</td>\n",
       "      <td>17.419071</td>\n",
       "      <td>-0.019071</td>\n",
       "    </tr>\n",
       "    <tr>\n",
       "      <th>17</th>\n",
       "      <td>12.72</td>\n",
       "      <td>107.64</td>\n",
       "      <td>11.88</td>\n",
       "      <td>42.84</td>\n",
       "      <td>11.020092</td>\n",
       "      <td>1.699908</td>\n",
       "    </tr>\n",
       "    <tr>\n",
       "      <th>36</th>\n",
       "      <td>11.16</td>\n",
       "      <td>82.80</td>\n",
       "      <td>11.16</td>\n",
       "      <td>1.08</td>\n",
       "      <td>9.792660</td>\n",
       "      <td>1.367340</td>\n",
       "    </tr>\n",
       "    <tr>\n",
       "      <th>116</th>\n",
       "      <td>12.36</td>\n",
       "      <td>168.36</td>\n",
       "      <td>2.28</td>\n",
       "      <td>10.80</td>\n",
       "      <td>11.915728</td>\n",
       "      <td>0.444272</td>\n",
       "    </tr>\n",
       "  </tbody>\n",
       "</table>\n",
       "</div>"
      ],
      "text/plain": [
       "     sales  youtube  facebook  newspaper  fitted_value  residual\n",
       "108  24.96   328.44     34.68      71.64     24.969153 -0.009153\n",
       "142  17.40   197.40     25.08      56.88     17.419071 -0.019071\n",
       "17   12.72   107.64     11.88      42.84     11.020092  1.699908\n",
       "36   11.16    82.80     11.16       1.08      9.792660  1.367340\n",
       "116  12.36   168.36      2.28      10.80     11.915728  0.444272"
      ]
     },
     "execution_count": 117,
     "metadata": {},
     "output_type": "execute_result"
    }
   ],
   "source": [
    "df['fitted_value']=model2.fittedvalues #Predicted Value\n",
    "df['residual']=model2.resid  #Error\n",
    "df.head()"
   ]
  },
  {
   "cell_type": "markdown",
   "id": "7b0c81cb",
   "metadata": {},
   "source": [
    "## Linearity"
   ]
  },
  {
   "cell_type": "code",
   "execution_count": 67,
   "id": "858afe77",
   "metadata": {},
   "outputs": [
    {
     "data": {
      "text/plain": [
       "<AxesSubplot:title={'center':'sales vs youtube'}, xlabel='youtube', ylabel='sales'>"
      ]
     },
     "execution_count": 67,
     "metadata": {},
     "output_type": "execute_result"
    },
    {
     "data": {
      "image/png": "[encoded data removed]",
      "text/plain": [
       "<Figure size 640x480 with 1 Axes>"
      ]
     },
     "metadata": {},
     "output_type": "display_data"
    }
   ],
   "source": [
    "df.plot.scatter(x='youtube',y='sales',title='sales vs youtube')\n"
   ]
  },
  {
   "cell_type": "markdown",
   "id": "bb0801de",
   "metadata": {},
   "source": [
    "### Homoscedasicity"
   ]
  },
  {
   "cell_type": "code",
   "execution_count": 68,
   "id": "b913e188",
   "metadata": {},
   "outputs": [
    {
     "data": {
      "text/plain": [
       "<AxesSubplot:xlabel='fitted_value', ylabel='residual'>"
      ]
     },
     "execution_count": 68,
     "metadata": {},
     "output_type": "execute_result"
    },
    {
     "data": {
      "image/png": "[encoded data removed]",
      "text/plain": [
       "<Figure size 640x480 with 1 Axes>"
      ]
     },
     "metadata": {},
     "output_type": "display_data"
    }
   ],
   "source": [
    "sns.scatterplot(x='fitted_value',y='residual',data=df)"
   ]
  },
  {
   "cell_type": "markdown",
   "id": "b788d23e",
   "metadata": {},
   "source": [
    "## Normality"
   ]
  },
  {
   "cell_type": "code",
   "execution_count": 77,
   "id": "03505a2a",
   "metadata": {},
   "outputs": [
    {
     "data": {
      "image/png": "[encoded data removed]",
      "text/plain": [
       "<Figure size 640x480 with 1 Axes>"
      ]
     },
     "metadata": {},
     "output_type": "display_data"
    }
   ],
   "source": [
    "fig=sm.qqplot(df['residual'],fit=True,line='s')"
   ]
  },
  {
   "cell_type": "markdown",
   "id": "b2df778d",
   "metadata": {},
   "source": [
    "## Model Error are IID(independent)"
   ]
  },
  {
   "cell_type": "code",
   "execution_count": 79,
   "id": "23bd51e5",
   "metadata": {},
   "outputs": [
    {
     "data": {
      "text/plain": [
       "<AxesSubplot:ylabel='Frequency'>"
      ]
     },
     "execution_count": 79,
     "metadata": {},
     "output_type": "execute_result"
    },
    {
     "data": {
      "image/png": "[encoded data removed]",
      "text/plain": [
       "<Figure size 640x480 with 1 Axes>"
      ]
     },
     "metadata": {},
     "output_type": "display_data"
    }
   ],
   "source": [
    "df['residual'].plot.hist()"
   ]
  },
  {
   "cell_type": "markdown",
   "id": "fecf0017",
   "metadata": {},
   "source": [
    "### Step5:Prediction on Test Data (unseen data)"
   ]
  },
  {
   "cell_type": "code",
   "execution_count": 107,
   "id": "aed4f275",
   "metadata": {},
   "outputs": [
    {
     "data": {
      "text/html": [
       "<div>\n",
       "<style scoped>\n",
       "    .dataframe tbody tr th:only-of-type {\n",
       "        vertical-align: middle;\n",
       "    }\n",
       "\n",
       "    .dataframe tbody tr th {\n",
       "        vertical-align: top;\n",
       "    }\n",
       "\n",
       "    .dataframe thead th {\n",
       "        text-align: right;\n",
       "    }\n",
       "</style>\n",
       "<table border=\"1\" class=\"dataframe\">\n",
       "  <thead>\n",
       "    <tr style=\"text-align: right;\">\n",
       "      <th></th>\n",
       "      <th>youtube</th>\n",
       "      <th>facebook</th>\n",
       "      <th>newspaper</th>\n",
       "      <th>sales</th>\n",
       "    </tr>\n",
       "  </thead>\n",
       "  <tbody>\n",
       "    <tr>\n",
       "      <th>95</th>\n",
       "      <td>275.40</td>\n",
       "      <td>38.76</td>\n",
       "      <td>89.04</td>\n",
       "      <td>23.64</td>\n",
       "    </tr>\n",
       "    <tr>\n",
       "      <th>63</th>\n",
       "      <td>261.24</td>\n",
       "      <td>40.20</td>\n",
       "      <td>70.80</td>\n",
       "      <td>23.28</td>\n",
       "    </tr>\n",
       "    <tr>\n",
       "      <th>144</th>\n",
       "      <td>202.08</td>\n",
       "      <td>8.52</td>\n",
       "      <td>15.36</td>\n",
       "      <td>14.04</td>\n",
       "    </tr>\n",
       "    <tr>\n",
       "      <th>169</th>\n",
       "      <td>340.32</td>\n",
       "      <td>50.40</td>\n",
       "      <td>79.44</td>\n",
       "      <td>30.60</td>\n",
       "    </tr>\n",
       "    <tr>\n",
       "      <th>41</th>\n",
       "      <td>238.92</td>\n",
       "      <td>36.72</td>\n",
       "      <td>46.44</td>\n",
       "      <td>21.96</td>\n",
       "    </tr>\n",
       "  </tbody>\n",
       "</table>\n",
       "</div>"
      ],
      "text/plain": [
       "     youtube  facebook  newspaper  sales\n",
       "95    275.40     38.76      89.04  23.64\n",
       "63    261.24     40.20      70.80  23.28\n",
       "144   202.08      8.52      15.36  14.04\n",
       "169   340.32     50.40      79.44  30.60\n",
       "41    238.92     36.72      46.44  21.96"
      ]
     },
     "execution_count": 107,
     "metadata": {},
     "output_type": "execute_result"
    }
   ],
   "source": [
    "df_test=pd.concat([x_test,y_test],axis=1)\n",
    "df_test.head()"
   ]
  },
  {
   "cell_type": "code",
   "execution_count": 108,
   "id": "a358ab60",
   "metadata": {},
   "outputs": [
    {
     "data": {
      "text/html": [
       "<div>\n",
       "<style scoped>\n",
       "    .dataframe tbody tr th:only-of-type {\n",
       "        vertical-align: middle;\n",
       "    }\n",
       "\n",
       "    .dataframe tbody tr th {\n",
       "        vertical-align: top;\n",
       "    }\n",
       "\n",
       "    .dataframe thead th {\n",
       "        text-align: right;\n",
       "    }\n",
       "</style>\n",
       "<table border=\"1\" class=\"dataframe\">\n",
       "  <thead>\n",
       "    <tr style=\"text-align: right;\">\n",
       "      <th></th>\n",
       "      <th>youtube</th>\n",
       "      <th>facebook</th>\n",
       "      <th>newspaper</th>\n",
       "      <th>sales</th>\n",
       "      <th>Prediction</th>\n",
       "    </tr>\n",
       "  </thead>\n",
       "  <tbody>\n",
       "    <tr>\n",
       "      <th>95</th>\n",
       "      <td>275.40</td>\n",
       "      <td>38.76</td>\n",
       "      <td>89.04</td>\n",
       "      <td>23.64</td>\n",
       "      <td>23.389036</td>\n",
       "    </tr>\n",
       "    <tr>\n",
       "      <th>63</th>\n",
       "      <td>261.24</td>\n",
       "      <td>40.20</td>\n",
       "      <td>70.80</td>\n",
       "      <td>23.28</td>\n",
       "      <td>23.032185</td>\n",
       "    </tr>\n",
       "    <tr>\n",
       "      <th>144</th>\n",
       "      <td>202.08</td>\n",
       "      <td>8.52</td>\n",
       "      <td>15.36</td>\n",
       "      <td>14.04</td>\n",
       "      <td>14.556996</td>\n",
       "    </tr>\n",
       "    <tr>\n",
       "      <th>169</th>\n",
       "      <td>340.32</td>\n",
       "      <td>50.40</td>\n",
       "      <td>79.44</td>\n",
       "      <td>30.60</td>\n",
       "      <td>28.404950</td>\n",
       "    </tr>\n",
       "    <tr>\n",
       "      <th>41</th>\n",
       "      <td>238.92</td>\n",
       "      <td>36.72</td>\n",
       "      <td>46.44</td>\n",
       "      <td>21.96</td>\n",
       "      <td>21.404375</td>\n",
       "    </tr>\n",
       "  </tbody>\n",
       "</table>\n",
       "</div>"
      ],
      "text/plain": [
       "     youtube  facebook  newspaper  sales  Prediction\n",
       "95    275.40     38.76      89.04  23.64   23.389036\n",
       "63    261.24     40.20      70.80  23.28   23.032185\n",
       "144   202.08      8.52      15.36  14.04   14.556996\n",
       "169   340.32     50.40      79.44  30.60   28.404950\n",
       "41    238.92     36.72      46.44  21.96   21.404375"
      ]
     },
     "execution_count": 108,
     "metadata": {},
     "output_type": "execute_result"
    }
   ],
   "source": [
    "df_test['Prediction']=model2.predict(df_test) \n",
    "df_test.head()"
   ]
  },
  {
   "cell_type": "code",
   "execution_count": 109,
   "id": "4858b1c0",
   "metadata": {},
   "outputs": [
    {
     "data": {
      "text/plain": [
       "23.378027999999997"
      ]
     },
     "execution_count": 109,
     "metadata": {},
     "output_type": "execute_result"
    }
   ],
   "source": [
    "Y = 4.0782 + 0.0440 * 275.40 + 0.1853 * 38.76  # one row prediction ( Manual)\n",
    "Y"
   ]
  },
  {
   "cell_type": "markdown",
   "id": "9b8e71ff",
   "metadata": {},
   "source": [
    "## Test"
   ]
  },
  {
   "cell_type": "code",
   "execution_count": 111,
   "id": "93574707",
   "metadata": {},
   "outputs": [
    {
     "name": "stdout",
     "output_type": "stream",
     "text": [
      "R2 score for model Performance on Test 0.91\n"
     ]
    }
   ],
   "source": [
    "r2 = r2_score(df_test.sales, df_test.Prediction)\n",
    "print('R2 score for model Performance on Test', np.round(r2,2))"
   ]
  },
  {
   "cell_type": "markdown",
   "id": "0701232a",
   "metadata": {},
   "source": [
    "### Train"
   ]
  },
  {
   "cell_type": "code",
   "execution_count": 118,
   "id": "b2fca7a5",
   "metadata": {},
   "outputs": [
    {
     "name": "stdout",
     "output_type": "stream",
     "text": [
      "R2 score for model Performance on Test 0.89\n"
     ]
    }
   ],
   "source": [
    "r2 = r2_score(df.sales, df.fitted_value)\n",
    "print('R2 score for model Performance on Test', np.round(r2,2))"
   ]
  },
  {
   "cell_type": "markdown",
   "id": "2533e339",
   "metadata": {},
   "source": [
    "### Prediction for Live Data -- Population"
   ]
  },
  {
   "cell_type": "code",
   "execution_count": 121,
   "id": "47332947",
   "metadata": {},
   "outputs": [
    {
     "data": {
      "text/html": [
       "<div>\n",
       "<style scoped>\n",
       "    .dataframe tbody tr th:only-of-type {\n",
       "        vertical-align: middle;\n",
       "    }\n",
       "\n",
       "    .dataframe tbody tr th {\n",
       "        vertical-align: top;\n",
       "    }\n",
       "\n",
       "    .dataframe thead th {\n",
       "        text-align: right;\n",
       "    }\n",
       "</style>\n",
       "<table border=\"1\" class=\"dataframe\">\n",
       "  <thead>\n",
       "    <tr style=\"text-align: right;\">\n",
       "      <th></th>\n",
       "      <th>Customer</th>\n",
       "      <th>youtube</th>\n",
       "      <th>facebook</th>\n",
       "      <th>newspaper</th>\n",
       "    </tr>\n",
       "  </thead>\n",
       "  <tbody>\n",
       "    <tr>\n",
       "      <th>0</th>\n",
       "      <td>Apurva</td>\n",
       "      <td>93.9</td>\n",
       "      <td>43.5</td>\n",
       "      <td>50.5</td>\n",
       "    </tr>\n",
       "    <tr>\n",
       "      <th>1</th>\n",
       "      <td>Shivani</td>\n",
       "      <td>73.5</td>\n",
       "      <td>18.0</td>\n",
       "      <td>13.0</td>\n",
       "    </tr>\n",
       "    <tr>\n",
       "      <th>2</th>\n",
       "      <td>Jiya</td>\n",
       "      <td>200.0</td>\n",
       "      <td>35.0</td>\n",
       "      <td>24.0</td>\n",
       "    </tr>\n",
       "  </tbody>\n",
       "</table>\n",
       "</div>"
      ],
      "text/plain": [
       "  Customer  youtube  facebook  newspaper\n",
       "0   Apurva     93.9      43.5       50.5\n",
       "1  Shivani     73.5      18.0       13.0\n",
       "2     Jiya    200.0      35.0       24.0"
      ]
     },
     "execution_count": 121,
     "metadata": {},
     "output_type": "execute_result"
    }
   ],
   "source": [
    "d1 = {'Customer':pd.Series(['Apurva','Shivani','Jiya']),\n",
    "      'youtube'      :pd.Series([93.9,73.5,200]),\n",
    "      'facebook'   :pd.Series([43.5,18,35]),\n",
    "      'newspaper':pd.Series([50.5,13,24]),\n",
    "     }\n",
    "live = pd.DataFrame(d1)\n",
    "live"
   ]
  },
  {
   "cell_type": "code",
   "execution_count": 122,
   "id": "4822232e",
   "metadata": {},
   "outputs": [
    {
     "data": {
      "text/html": [
       "<div>\n",
       "<style scoped>\n",
       "    .dataframe tbody tr th:only-of-type {\n",
       "        vertical-align: middle;\n",
       "    }\n",
       "\n",
       "    .dataframe tbody tr th {\n",
       "        vertical-align: top;\n",
       "    }\n",
       "\n",
       "    .dataframe thead th {\n",
       "        text-align: right;\n",
       "    }\n",
       "</style>\n",
       "<table border=\"1\" class=\"dataframe\">\n",
       "  <thead>\n",
       "    <tr style=\"text-align: right;\">\n",
       "      <th></th>\n",
       "      <th>Customer</th>\n",
       "      <th>youtube</th>\n",
       "      <th>facebook</th>\n",
       "      <th>newspaper</th>\n",
       "      <th>future Prediction</th>\n",
       "    </tr>\n",
       "  </thead>\n",
       "  <tbody>\n",
       "    <tr>\n",
       "      <th>0</th>\n",
       "      <td>Apurva</td>\n",
       "      <td>93.9</td>\n",
       "      <td>43.5</td>\n",
       "      <td>50.5</td>\n",
       "      <td>16.25</td>\n",
       "    </tr>\n",
       "    <tr>\n",
       "      <th>1</th>\n",
       "      <td>Shivani</td>\n",
       "      <td>73.5</td>\n",
       "      <td>18.0</td>\n",
       "      <td>13.0</td>\n",
       "      <td>10.69</td>\n",
       "    </tr>\n",
       "    <tr>\n",
       "      <th>2</th>\n",
       "      <td>Jiya</td>\n",
       "      <td>200.0</td>\n",
       "      <td>35.0</td>\n",
       "      <td>24.0</td>\n",
       "      <td>19.41</td>\n",
       "    </tr>\n",
       "  </tbody>\n",
       "</table>\n",
       "</div>"
      ],
      "text/plain": [
       "  Customer  youtube  facebook  newspaper  future Prediction\n",
       "0   Apurva     93.9      43.5       50.5              16.25\n",
       "1  Shivani     73.5      18.0       13.0              10.69\n",
       "2     Jiya    200.0      35.0       24.0              19.41"
      ]
     },
     "execution_count": 122,
     "metadata": {},
     "output_type": "execute_result"
    }
   ],
   "source": [
    "live['future Prediction']=np.round(model.predict(live),2)\n",
    "live"
   ]
  }
 ],
 "metadata": {
  "kernelspec": {
   "display_name": "Python 3 (ipykernel)",
   "language": "python",
   "name": "python3"
  },
  "language_info": {
   "codemirror_mode": {
    "name": "ipython",
    "version": 3
   },
   "file_extension": ".py",
   "mimetype": "text/x-python",
   "name": "python",
   "nbconvert_exporter": "python",
   "pygments_lexer": "ipython3",
   "version": "3.9.13"
  }
 },
 "nbformat": 4,
 "nbformat_minor": 5
}
